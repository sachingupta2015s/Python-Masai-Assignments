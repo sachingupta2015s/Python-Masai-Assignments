{
 "cells": [
  {
   "cell_type": "markdown",
   "id": "22f13c15",
   "metadata": {},
   "source": [
    "### 1. Print the Data Type of x,y,z?\n",
    "x = 25\n",
    "y = \"Prefleaf\"\n",
    "z = 25.89"
   ]
  },
  {
   "cell_type": "code",
   "execution_count": 1,
   "id": "96cb9f9d",
   "metadata": {},
   "outputs": [],
   "source": [
    "x = 25 \n",
    "y = \"Prefleaf\" \n",
    "z = 25.89 "
   ]
  },
  {
   "cell_type": "code",
   "execution_count": 2,
   "id": "b14e1749",
   "metadata": {},
   "outputs": [
    {
     "data": {
      "text/plain": [
       "int"
      ]
     },
     "execution_count": 2,
     "metadata": {},
     "output_type": "execute_result"
    }
   ],
   "source": [
    "type(x)"
   ]
  },
  {
   "cell_type": "code",
   "execution_count": 3,
   "id": "05f0374d",
   "metadata": {},
   "outputs": [
    {
     "data": {
      "text/plain": [
       "str"
      ]
     },
     "execution_count": 3,
     "metadata": {},
     "output_type": "execute_result"
    }
   ],
   "source": [
    "type(y)"
   ]
  },
  {
   "cell_type": "code",
   "execution_count": 4,
   "id": "b9b7c9ea",
   "metadata": {},
   "outputs": [
    {
     "data": {
      "text/plain": [
       "float"
      ]
     },
     "execution_count": 4,
     "metadata": {},
     "output_type": "execute_result"
    }
   ],
   "source": [
    "type(z)"
   ]
  },
  {
   "cell_type": "markdown",
   "id": "87673d84",
   "metadata": {},
   "source": [
    "### 2. Take the following as a input in use?\n"
   ]
  },
  {
   "cell_type": "code",
   "execution_count": 14,
   "id": "1a8c0230",
   "metadata": {},
   "outputs": [],
   "source": [
    "# name\n",
    "a = 'Sachin gupta'"
   ]
  },
  {
   "cell_type": "code",
   "execution_count": 15,
   "id": "3db4aba5",
   "metadata": {},
   "outputs": [
    {
     "data": {
      "text/plain": [
       "'Sachin gupta'"
      ]
     },
     "execution_count": 15,
     "metadata": {},
     "output_type": "execute_result"
    }
   ],
   "source": [
    "a"
   ]
  },
  {
   "cell_type": "code",
   "execution_count": 16,
   "id": "d4bd4ad4",
   "metadata": {},
   "outputs": [
    {
     "data": {
      "text/plain": [
       "str"
      ]
     },
     "execution_count": 16,
     "metadata": {},
     "output_type": "execute_result"
    }
   ],
   "source": [
    "type(a)"
   ]
  },
  {
   "cell_type": "code",
   "execution_count": 12,
   "id": "97d0e126",
   "metadata": {},
   "outputs": [
    {
     "data": {
      "text/plain": [
       "7"
      ]
     },
     "execution_count": 12,
     "metadata": {},
     "output_type": "execute_result"
    }
   ],
   "source": [
    "### lucky number\n",
    "\n",
    "b = 7\n",
    "b"
   ]
  },
  {
   "cell_type": "code",
   "execution_count": 13,
   "id": "f06a5c6e",
   "metadata": {},
   "outputs": [
    {
     "data": {
      "text/plain": [
       "int"
      ]
     },
     "execution_count": 13,
     "metadata": {},
     "output_type": "execute_result"
    }
   ],
   "source": [
    "type(b)"
   ]
  },
  {
   "cell_type": "code",
   "execution_count": 17,
   "id": "ec069e8b",
   "metadata": {},
   "outputs": [
    {
     "data": {
      "text/plain": [
       "'Kolkata'"
      ]
     },
     "execution_count": 17,
     "metadata": {},
     "output_type": "execute_result"
    }
   ],
   "source": [
    "# place\n",
    "place = 'Kolkata'\n",
    "place"
   ]
  },
  {
   "cell_type": "code",
   "execution_count": 18,
   "id": "eba0e04c",
   "metadata": {},
   "outputs": [
    {
     "data": {
      "text/plain": [
       "str"
      ]
     },
     "execution_count": 18,
     "metadata": {},
     "output_type": "execute_result"
    }
   ],
   "source": [
    "type(place)"
   ]
  },
  {
   "cell_type": "markdown",
   "id": "cd5d7bef",
   "metadata": {},
   "source": [
    "### 3. take two variables name ad age and print using.format and f-string"
   ]
  },
  {
   "cell_type": "code",
   "execution_count": 20,
   "id": "6d66470f",
   "metadata": {},
   "outputs": [
    {
     "name": "stdout",
     "output_type": "stream",
     "text": [
      "Peter is 23 years old\n"
     ]
    }
   ],
   "source": [
    "# using.format\n",
    "\n",
    "name = 'Amit'\n",
    "age = 26\n",
    "\n",
    "print('{} is {} years old'.format(name, age))"
   ]
  },
  {
   "cell_type": "code",
   "execution_count": 21,
   "id": "64ab4017",
   "metadata": {},
   "outputs": [
    {
     "name": "stdout",
     "output_type": "stream",
     "text": [
      "There are total of 36 apples\n"
     ]
    }
   ],
   "source": [
    "# f-string\n",
    "\n",
    "bags = 3\n",
    "apples_in_bag = 12\n",
    "\n",
    "print(f'There are total of {bags * apples_in_bag} apples')"
   ]
  },
  {
   "cell_type": "markdown",
   "id": "ff5a1f5a",
   "metadata": {},
   "source": [
    "### 4. take 2 numbers as inputs from user and print their\n",
    "-- sum\n",
    "-- difference\n",
    "-- product\n",
    "-- divison\n",
    "-- remainder"
   ]
  },
  {
   "cell_type": "code",
   "execution_count": 39,
   "id": "fa923b61",
   "metadata": {},
   "outputs": [],
   "source": [
    "c = 7\n",
    "f = 2"
   ]
  },
  {
   "cell_type": "code",
   "execution_count": 40,
   "id": "3b60ff36",
   "metadata": {},
   "outputs": [
    {
     "data": {
      "text/plain": [
       "9"
      ]
     },
     "execution_count": 40,
     "metadata": {},
     "output_type": "execute_result"
    }
   ],
   "source": [
    "sum1 = c+f\n",
    "sum1"
   ]
  },
  {
   "cell_type": "code",
   "execution_count": 41,
   "id": "c08c7d5a",
   "metadata": {},
   "outputs": [
    {
     "data": {
      "text/plain": [
       "5"
      ]
     },
     "execution_count": 41,
     "metadata": {},
     "output_type": "execute_result"
    }
   ],
   "source": [
    "diff1 = c-f\n",
    "diff1"
   ]
  },
  {
   "cell_type": "code",
   "execution_count": 42,
   "id": "48a71259",
   "metadata": {},
   "outputs": [
    {
     "data": {
      "text/plain": [
       "14"
      ]
     },
     "execution_count": 42,
     "metadata": {},
     "output_type": "execute_result"
    }
   ],
   "source": [
    "pro1 = c*f\n",
    "pro1"
   ]
  },
  {
   "cell_type": "code",
   "execution_count": 43,
   "id": "787743bf",
   "metadata": {},
   "outputs": [
    {
     "data": {
      "text/plain": [
       "3.5"
      ]
     },
     "execution_count": 43,
     "metadata": {},
     "output_type": "execute_result"
    }
   ],
   "source": [
    "dviv1 = c/f\n",
    "dviv1"
   ]
  },
  {
   "cell_type": "code",
   "execution_count": 44,
   "id": "46b4a939",
   "metadata": {},
   "outputs": [
    {
     "data": {
      "text/plain": [
       "1"
      ]
     },
     "execution_count": 44,
     "metadata": {},
     "output_type": "execute_result"
    }
   ],
   "source": [
    "rem1 = c%f\n",
    "rem1"
   ]
  },
  {
   "cell_type": "markdown",
   "id": "58325e70",
   "metadata": {},
   "source": [
    "### 5. check the output of the following\n",
    "##### logical operators"
   ]
  },
  {
   "cell_type": "code",
   "execution_count": 45,
   "id": "6bc2f6e9",
   "metadata": {},
   "outputs": [
    {
     "name": "stdout",
     "output_type": "stream",
     "text": [
      "False\n"
     ]
    }
   ],
   "source": [
    "print(2==3)"
   ]
  },
  {
   "cell_type": "code",
   "execution_count": 48,
   "id": "ecd76d13",
   "metadata": {},
   "outputs": [
    {
     "data": {
      "text/plain": [
       "True"
      ]
     },
     "execution_count": 48,
     "metadata": {},
     "output_type": "execute_result"
    }
   ],
   "source": [
    "print(2<3)"
   ]
  },
  {
   "cell_type": "code",
   "execution_count": 49,
   "id": "1a6ca187",
   "metadata": {},
   "outputs": [
    {
     "data": {
      "text/plain": [
       "True"
      ]
     },
     "execution_count": 49,
     "metadata": {},
     "output_type": "execute_result"
    }
   ],
   "source": [
    "2==2"
   ]
  },
  {
   "cell_type": "code",
   "execution_count": 50,
   "id": "c3438d3d",
   "metadata": {},
   "outputs": [
    {
     "data": {
      "text/plain": [
       "False"
      ]
     },
     "execution_count": 50,
     "metadata": {},
     "output_type": "execute_result"
    }
   ],
   "source": [
    "(4>5)"
   ]
  },
  {
   "cell_type": "code",
   "execution_count": 52,
   "id": "0c8ee967",
   "metadata": {},
   "outputs": [
    {
     "data": {
      "text/plain": [
       "False"
      ]
     },
     "execution_count": 52,
     "metadata": {},
     "output_type": "execute_result"
    }
   ],
   "source": [
    "((23==2) & (2==3))"
   ]
  },
  {
   "cell_type": "code",
   "execution_count": 53,
   "id": "4fda6696",
   "metadata": {},
   "outputs": [
    {
     "data": {
      "text/plain": [
       "False"
      ]
     },
     "execution_count": 53,
     "metadata": {},
     "output_type": "execute_result"
    }
   ],
   "source": [
    "((23==2)|(2==3))"
   ]
  },
  {
   "cell_type": "code",
   "execution_count": null,
   "id": "a3c71d54",
   "metadata": {},
   "outputs": [],
   "source": []
  },
  {
   "cell_type": "markdown",
   "id": "5e8b1eb7",
   "metadata": {},
   "source": [
    "### 6.Write a program to print multiplication table(upto 10) of a given number?"
   ]
  },
  {
   "cell_type": "code",
   "execution_count": 55,
   "id": "e3eda866",
   "metadata": {},
   "outputs": [
    {
     "name": "stdout",
     "output_type": "stream",
     "text": [
      "\n",
      "1 2 3 4 5 6 7 8 9 10 \n",
      "2 4 6 8 10 12 14 16 18 20 \n",
      "3 6 9 12 15 18 21 24 27 30 \n",
      "4 8 12 16 20 24 28 32 36 40 \n",
      "5 10 15 20 25 30 35 40 45 50 \n",
      "6 12 18 24 30 36 42 48 54 60 \n",
      "7 14 21 28 35 42 49 56 63 70 \n",
      "8 16 24 32 40 48 56 64 72 80 \n",
      "9 18 27 36 45 54 63 72 81 90 "
     ]
    }
   ],
   "source": [
    "def tables():\n",
    "    for x in range(1, 10):\n",
    "\n",
    "        print(\"\")\n",
    "\n",
    "        for y in range(1, 11):\n",
    "            print(x * y, end=\" \")\n",
    "\n",
    "\n",
    "tables()"
   ]
  },
  {
   "cell_type": "markdown",
   "id": "9bec6be5",
   "metadata": {},
   "source": [
    "### 7.Write a program to count the total number of digits in a number"
   ]
  },
  {
   "cell_type": "code",
   "execution_count": 56,
   "id": "311a3a29",
   "metadata": {},
   "outputs": [
    {
     "name": "stdout",
     "output_type": "stream",
     "text": [
      "Number of digits: 3\n"
     ]
    }
   ],
   "source": [
    "num = 258\n",
    "count = 0\n",
    "\n",
    "while num != 0:\n",
    "    num //= 10\n",
    "    count += 1\n",
    "\n",
    "print(\"Number of digits: \" + str(count))"
   ]
  },
  {
   "cell_type": "markdown",
   "id": "714ec83b",
   "metadata": {},
   "source": [
    "### 8. Write a program to display all prime numbers within a range?"
   ]
  },
  {
   "cell_type": "code",
   "execution_count": 57,
   "id": "81806dfe",
   "metadata": {},
   "outputs": [
    {
     "name": "stdout",
     "output_type": "stream",
     "text": [
      "Enter the min : 2\n",
      "Enter the max : 1000\n",
      "2\n",
      "3\n",
      "5\n",
      "7\n",
      "11\n",
      "13\n",
      "17\n",
      "19\n",
      "23\n",
      "29\n",
      "31\n",
      "37\n",
      "41\n",
      "43\n",
      "47\n",
      "53\n",
      "59\n",
      "61\n",
      "67\n",
      "71\n",
      "73\n",
      "79\n",
      "83\n",
      "89\n",
      "97\n",
      "101\n",
      "103\n",
      "107\n",
      "109\n",
      "113\n",
      "127\n",
      "131\n",
      "137\n",
      "139\n",
      "149\n",
      "151\n",
      "157\n",
      "163\n",
      "167\n",
      "173\n",
      "179\n",
      "181\n",
      "191\n",
      "193\n",
      "197\n",
      "199\n",
      "211\n",
      "223\n",
      "227\n",
      "229\n",
      "233\n",
      "239\n",
      "241\n",
      "251\n",
      "257\n",
      "263\n",
      "269\n",
      "271\n",
      "277\n",
      "281\n",
      "283\n",
      "293\n",
      "307\n",
      "311\n",
      "313\n",
      "317\n",
      "331\n",
      "337\n",
      "347\n",
      "349\n",
      "353\n",
      "359\n",
      "367\n",
      "373\n",
      "379\n",
      "383\n",
      "389\n",
      "397\n",
      "401\n",
      "409\n",
      "419\n",
      "421\n",
      "431\n",
      "433\n",
      "439\n",
      "443\n",
      "449\n",
      "457\n",
      "461\n",
      "463\n",
      "467\n",
      "479\n",
      "487\n",
      "491\n",
      "499\n",
      "503\n",
      "509\n",
      "521\n",
      "523\n",
      "541\n",
      "547\n",
      "557\n",
      "563\n",
      "569\n",
      "571\n",
      "577\n",
      "587\n",
      "593\n",
      "599\n",
      "601\n",
      "607\n",
      "613\n",
      "617\n",
      "619\n",
      "631\n",
      "641\n",
      "643\n",
      "647\n",
      "653\n",
      "659\n",
      "661\n",
      "673\n",
      "677\n",
      "683\n",
      "691\n",
      "701\n",
      "709\n",
      "719\n",
      "727\n",
      "733\n",
      "739\n",
      "743\n",
      "751\n",
      "757\n",
      "761\n",
      "769\n",
      "773\n",
      "787\n",
      "797\n",
      "809\n",
      "811\n",
      "821\n",
      "823\n",
      "827\n",
      "829\n",
      "839\n",
      "853\n",
      "857\n",
      "859\n",
      "863\n",
      "877\n",
      "881\n",
      "883\n",
      "887\n",
      "907\n",
      "911\n",
      "919\n",
      "929\n",
      "937\n",
      "941\n",
      "947\n",
      "953\n",
      "967\n",
      "971\n",
      "977\n",
      "983\n",
      "991\n",
      "997\n"
     ]
    }
   ],
   "source": [
    "#Read user input\n",
    "min = int(input(\"Enter the min : \"))\n",
    "max = int(input(\"Enter the max : \"))\n",
    "for n in range(min,max + 1):\n",
    "   if n > 1:\n",
    "       for i in range(2,n):\n",
    "           if (n % i) == 0:\n",
    "               break\n",
    "       else:\n",
    "           print(n)"
   ]
  },
  {
   "cell_type": "code",
   "execution_count": null,
   "id": "e61c8dd5",
   "metadata": {},
   "outputs": [],
   "source": []
  }
 ],
 "metadata": {
  "kernelspec": {
   "display_name": "Python 3 (ipykernel)",
   "language": "python",
   "name": "python3"
  },
  "language_info": {
   "codemirror_mode": {
    "name": "ipython",
    "version": 3
   },
   "file_extension": ".py",
   "mimetype": "text/x-python",
   "name": "python",
   "nbconvert_exporter": "python",
   "pygments_lexer": "ipython3",
   "version": "3.9.12"
  }
 },
 "nbformat": 4,
 "nbformat_minor": 5
}
